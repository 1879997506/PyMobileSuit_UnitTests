{
 "cells": [
  {
   "cell_type": "code",
   "execution_count": 21,
   "metadata": {},
   "outputs": [],
   "source": [
    "import inspect\n",
    "\n",
    "class Class(object):\n",
    "    def helo(self, a,b:int,c):\n",
    "        pass\n",
    "\n",
    "sig=inspect.signature(Class.helo)"
   ]
  },
  {
   "cell_type": "code",
   "execution_count": 22,
   "metadata": {},
   "outputs": [
    {
     "data": {
      "text/plain": [
       "<Signature (self, a, b: int, c)>"
      ]
     },
     "execution_count": 22,
     "metadata": {},
     "output_type": "execute_result"
    }
   ],
   "source": [
    "sig"
   ]
  },
  {
   "cell_type": "code",
   "execution_count": 23,
   "metadata": {},
   "outputs": [],
   "source": [
    "def checkrep(t):\n",
    "    print(f't==int:{t==int}')"
   ]
  },
  {
   "cell_type": "code",
   "execution_count": 24,
   "metadata": {},
   "outputs": [
    {
     "ename": "AttributeError",
     "evalue": "'Parameter' object has no attribute '__dict__'",
     "output_type": "error",
     "traceback": [
      "\u001b[1;31m---------------------------------------------------------------------------\u001b[0m",
      "\u001b[1;31mAttributeError\u001b[0m                            Traceback (most recent call last)",
      "Cell \u001b[1;32mIn[24], line 2\u001b[0m\n\u001b[0;32m      1\u001b[0m \u001b[39mfor\u001b[39;00m name,param_info \u001b[39min\u001b[39;00m sig\u001b[39m.\u001b[39mparameters\u001b[39m.\u001b[39mitems():\n\u001b[1;32m----> 2\u001b[0m     param_info\u001b[39m.\u001b[39;49m\u001b[39m__dict__\u001b[39;49m[\u001b[39m'\u001b[39m\u001b[39m____suit_parser\u001b[39m\u001b[39m'\u001b[39m]\u001b[39m=\u001b[39m\u001b[39m'\u001b[39m\u001b[39mhelo\u001b[39m\u001b[39m'\u001b[39m\n\u001b[0;32m      3\u001b[0m \u001b[39mfor\u001b[39;00m name,param_info \u001b[39min\u001b[39;00m sig\u001b[39m.\u001b[39mparameters\u001b[39m.\u001b[39mitems():\n\u001b[0;32m      4\u001b[0m     \u001b[39mprint\u001b[39m(name)\n",
      "\u001b[1;31mAttributeError\u001b[0m: 'Parameter' object has no attribute '__dict__'"
     ]
    }
   ],
   "source": [
    "for name,param_info in sig.parameters.items():\n",
    "    param_info.__dict__['____suit_parser']='helo'\n",
    "for name,param_info in sig.parameters.items():\n",
    "    print(name)\n",
    "    print(type(param_info))\n",
    "    print(param_info)\n",
    "    print(param_info.annotation)\n",
    "    checkrep(param_info.annotation)\n",
    "    print(type(param_info.annotation))\n",
    "    print(param_info.____suit_parser)\n",
    "    print()"
   ]
  },
  {
   "cell_type": "code",
   "execution_count": null,
   "metadata": {},
   "outputs": [
    {
     "name": "stdout",
     "output_type": "stream",
     "text": [
      "1 <class 'int'>\n",
      "1 <class 'int'>\n"
     ]
    }
   ],
   "source": [
    "from PyMobileSuit.Core.SuitParser import SuitParser\n",
    "\n",
    "manual=SuitParser.FromConverter(int,lambda x: int(x),\"int_manual\")\n",
    "auto=SuitParser.FromName(int,\"int_auto\")\n",
    "print(manual.Parser(\"1\"),manual.TargetType())\n",
    "print(auto.Parser(\"1\"),auto.TargetType())"
   ]
  },
  {
   "cell_type": "code",
   "execution_count": null,
   "metadata": {},
   "outputs": [
    {
     "name": "stdout",
     "output_type": "stream",
     "text": [
      "list[int]\n",
      "False\n",
      "True\n",
      "True\n",
      "<class 'int'>\n",
      "True\n",
      "<class '__main__.B'>\n",
      "True\n",
      "True\n",
      "True\n"
     ]
    },
    {
     "ename": "IndexError",
     "evalue": "tuple index out of range",
     "output_type": "error",
     "traceback": [
      "\u001b[1;31m---------------------------------------------------------------------------\u001b[0m",
      "\u001b[1;31mIndexError\u001b[0m                                Traceback (most recent call last)",
      "Cell \u001b[1;32mIn[3], line 31\u001b[0m\n\u001b[0;32m     28\u001b[0m     \u001b[39mpass\u001b[39;00m\n\u001b[0;32m     30\u001b[0m t2\u001b[39m=\u001b[39minspect\u001b[39m.\u001b[39msignature(test_b)\u001b[39m.\u001b[39mparameters[\u001b[39m'\u001b[39m\u001b[39ma\u001b[39m\u001b[39m'\u001b[39m]\u001b[39m.\u001b[39mannotation\n\u001b[1;32m---> 31\u001b[0m test_anno(t2)\n",
      "Cell \u001b[1;32mIn[3], line 18\u001b[0m, in \u001b[0;36mtest_anno\u001b[1;34m(list_anno)\u001b[0m\n\u001b[0;32m     16\u001b[0m \u001b[39mprint\u001b[39m(\u001b[39missubclass\u001b[39m(root_get_origin( list_anno), List))\n\u001b[0;32m     17\u001b[0m \u001b[39mprint\u001b[39m(\u001b[39missubclass\u001b[39m(root_get_origin( list_anno), Iterable))\n\u001b[1;32m---> 18\u001b[0m arg0\u001b[39m=\u001b[39mget_args(list_anno)[\u001b[39m0\u001b[39;49m]\n\u001b[0;32m     19\u001b[0m \u001b[39mprint\u001b[39m(arg0)\n\u001b[0;32m     20\u001b[0m \u001b[39mprint\u001b[39m(arg0\u001b[39m==\u001b[39m\u001b[39mint\u001b[39m)\n",
      "\u001b[1;31mIndexError\u001b[0m: tuple index out of range"
     ]
    }
   ],
   "source": [
    "from typing import Iterable, List,get_args,get_origin\n",
    "import inspect\n",
    "\n",
    "def test_a(a:list[int]):\n",
    "    pass\n",
    "\n",
    "def root_list_subclass(T):\n",
    "    origin=get_origin(T)\n",
    "    if  origin is not None or origin == T:\n",
    "        return root_get_origin(origin)\n",
    "    return T\n",
    "\n",
    "def root_get_origin(T):\n",
    "    origin=get_origin(T)\n",
    "    if  origin is not None or origin == T:\n",
    "        return root_get_origin(origin)\n",
    "    return T\n",
    "t1=inspect.signature(test_a).parameters['a'].annotation\n",
    "def test_anno(list_anno):\n",
    "    print(list_anno)\n",
    "    print(issubclass(list_anno, List))\n",
    "    print(issubclass(root_get_origin( list_anno), List))\n",
    "    print(issubclass(root_get_origin( list_anno), Iterable))\n",
    "    arg0=get_args(list_anno)[0]\n",
    "    print(arg0)\n",
    "    print(arg0==int)\n",
    "\n",
    "test_anno(t1)\n",
    "\n",
    "class B(List[int]):\n",
    "    pass\n",
    "\n",
    "def test_b(a:B):\n",
    "    pass\n",
    "\n",
    "t2=inspect.signature(test_b).parameters['a'].annotation\n",
    "test_anno(t2)\n"
   ]
  },
  {
   "cell_type": "code",
   "execution_count": null,
   "metadata": {},
   "outputs": [
    {
     "name": "stdout",
     "output_type": "stream",
     "text": [
      "OrderedDict([('self', <Parameter \"self\">), ('name', <Parameter \"name: str\">)])\n",
      "OrderedDict([('name', <Parameter \"name: str\">)])\n",
      "helo, aaa\n",
      "helo, aaa\n",
      "helo, wz\n"
     ]
    }
   ],
   "source": [
    "import inspect\n",
    "\n",
    "class A(object):\n",
    "    def method(self, name:str):\n",
    "        print(f'helo, {name}')\n",
    "\n",
    "a=A()\n",
    "print(inspect.signature(A.method).parameters)\n",
    "print(inspect.signature(a.method).parameters)\n",
    "a.method('aaa')\n",
    "A.method(a,'aaa')\n",
    "args=['wz']\n",
    "getattr(a, 'method')(*args)\n",
    "\n"
   ]
  },
  {
   "cell_type": "code",
   "execution_count": null,
   "metadata": {},
   "outputs": [
    {
     "name": "stdout",
     "output_type": "stream",
     "text": [
      "m2\n"
     ]
    }
   ],
   "source": [
    "def m1():\n",
    "    m2()\n",
    "\n",
    "def m2():\n",
    "    print('m2')\n",
    "\n",
    "m1()"
   ]
  },
  {
   "cell_type": "code",
   "execution_count": 6,
   "metadata": {},
   "outputs": [
    {
     "name": "stdout",
     "output_type": "stream",
     "text": [
      "<class 'function'> method <function A.method at 0x000001F4DAC6AF70>\n",
      "method\n",
      "<class 'inspect._empty'>\n",
      "<class 'property'> property <property object at 0x000001F4DA939CC0>\n",
      "helo\n",
      "<class 'int'>\n",
      "1\n",
      "<class 'function'> staticmethod <function A.staticmethod at 0x000001F4DACD3040>\n",
      "staticmethod\n",
      "<class 'inspect._empty'>\n"
     ]
    }
   ],
   "source": [
    "from PyMobileSuit.Decorators import *\n",
    "import PyMobileSuit.Decorators.DecoratorUtils as DecoratorUtils\n",
    "\n",
    "class B:\n",
    "    pass\n",
    "\n",
    "class A(object):\n",
    "    Field:B\n",
    "    def __init__(self):\n",
    "        self.Field=B()\n",
    "\n",
    "    def method(self):\n",
    "        pass\n",
    "    \n",
    "    @staticmethod\n",
    "    def staticmethod():\n",
    "        pass\n",
    "    \n",
    "    \n",
    "    @property\n",
    "    @SuitInfo(\"helo\")\n",
    "    def property(self)->int:\n",
    "        return 1\n",
    "import inspect\n",
    "from typing import Callable\n",
    "\n",
    "for (name,member) in inspect.getmembers(A):\n",
    "    if name.startswith('__'):\n",
    "        continue\n",
    "    print(f'{type(member)} {name} {member}')\n",
    "    if isinstance(member, property):\n",
    "        print(DecoratorUtils.get_info(member.fget))\n",
    "        print(inspect.signature(member.fget).return_annotation)\n",
    "        print(getattr(A(), name))\n",
    "    elif isinstance(member, Callable):\n",
    "        sig=inspect.signature(member)\n",
    "        print(member.__name__)\n",
    "        print(sig.return_annotation)"
   ]
  },
  {
   "cell_type": "code",
   "execution_count": 5,
   "metadata": {},
   "outputs": [
    {
     "name": "stdout",
     "output_type": "stream",
     "text": [
      "ConsoleColor.DarkYellow\n",
      "yellow\n"
     ]
    }
   ],
   "source": [
    "from PyMobileSuit.ConsoleColor import ConsoleColor\n",
    "from PyMobileSuit.CSharp import nameof\n",
    "from colour import Color\n",
    "print(ConsoleColor.DarkYellow)\n",
    "print(Color(ConsoleColor.Yellow.name.split('.')[-1].lower()))"
   ]
  },
  {
   "cell_type": "code",
   "execution_count": 8,
   "metadata": {},
   "outputs": [
    {
     "name": "stdout",
     "output_type": "stream",
     "text": [
      "True\n"
     ]
    }
   ],
   "source": [
    "import sys\n",
    "from io import TextIOBase\n",
    "\n",
    "print(isinstance(sys.stdin, TextIOBase))"
   ]
  }
 ],
 "metadata": {
  "kernelspec": {
   "display_name": "bare-optim",
   "language": "python",
   "name": "python3"
  },
  "language_info": {
   "codemirror_mode": {
    "name": "ipython",
    "version": 3
   },
   "file_extension": ".py",
   "mimetype": "text/x-python",
   "name": "python",
   "nbconvert_exporter": "python",
   "pygments_lexer": "ipython3",
   "version": "3.9.16"
  },
  "orig_nbformat": 4
 },
 "nbformat": 4,
 "nbformat_minor": 2
}
